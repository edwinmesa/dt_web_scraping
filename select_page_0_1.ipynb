{
 "cells": [
  {
   "cell_type": "code",
   "execution_count": 385,
   "metadata": {},
   "outputs": [],
   "source": [
    "# selenium 4\n",
    "from selenium import webdriver  # browser exposes an executable file\n",
    "# Through Selenium test we will invoke the executable file which will then #invoke actual browser\n",
    "from selenium.webdriver.common.by import By\n",
    "from selenium.webdriver.support.select import Select\n",
    "import time\n",
    "from selenium.webdriver.support.ui import WebDriverWait\n",
    "from selenium.webdriver.support import expected_conditions as EC\n",
    "import requests\n",
    "import pandas as pd\n",
    "from bs4 import BeautifulSoup\n",
    "from selenium.webdriver.chrome.service import Service as ChromeService\n",
    "from selenium.webdriver.common.keys import Keys\n",
    "from webdriver_manager.chrome import ChromeDriverManager\n",
    "driver = webdriver.Chrome(service=ChromeService(\n",
    "    ChromeDriverManager().install()))"
   ]
  },
  {
   "cell_type": "code",
   "execution_count": 386,
   "metadata": {},
   "outputs": [],
   "source": [
    "# get method to launch the URL\n",
    "url = driver.get(\"https://www.dislicores.com/\")\n",
    "# to refresh the browser\n"
   ]
  },
  {
   "cell_type": "code",
   "execution_count": 387,
   "metadata": {},
   "outputs": [],
   "source": [
    "time.sleep(2)  # Sleep for 3 seconds\n"
   ]
  },
  {
   "cell_type": "code",
   "execution_count": 388,
   "metadata": {},
   "outputs": [],
   "source": [
    "# the driver determines that should be used or not based the XPATH variable\n",
    "# This variables should be changed with the time\n",
    "\n",
    "# Open modal window\n",
    "open_modal = driver.find_element(\n",
    "    By.XPATH, \"//div[contains(text(),'BY ICOMMKT')]\")\n",
    "open_modal.click()\n"
   ]
  },
  {
   "cell_type": "code",
   "execution_count": 389,
   "metadata": {},
   "outputs": [],
   "source": [
    "time.sleep(2)  # Sleep for 3 seconds\n"
   ]
  },
  {
   "cell_type": "code",
   "execution_count": 390,
   "metadata": {},
   "outputs": [],
   "source": [
    "# select city\n",
    "select_modal = driver.find_element(By.XPATH, \"//div[@class=' css-mqam1g']\")\n",
    "select_modal.click()\n"
   ]
  },
  {
   "cell_type": "code",
   "execution_count": 391,
   "metadata": {},
   "outputs": [],
   "source": [
    "# # select city\n",
    "select_modal_city = driver.find_element(\n",
    "    By.XPATH, \"//div[@id='react-select-2-option-9']\")\n",
    "select_modal_city.click()\n"
   ]
  },
  {
   "cell_type": "code",
   "execution_count": 392,
   "metadata": {},
   "outputs": [],
   "source": [
    "time.sleep(2)  # Sleep for 3 seconds\n"
   ]
  },
  {
   "cell_type": "code",
   "execution_count": 393,
   "metadata": {},
   "outputs": [],
   "source": [
    "# # click on list box\n",
    "click_modal_list_box = driver.find_element(\n",
    "    By.XPATH, \"//span[@class='dislicoresqa-custom-app-2-x-AgeVerification_a_checkbox_checkmark']\")\n",
    "click_modal_list_box.click()\n"
   ]
  },
  {
   "cell_type": "code",
   "execution_count": 394,
   "metadata": {},
   "outputs": [],
   "source": [
    "time.sleep(2)  # Sleep for 3 seconds\n"
   ]
  },
  {
   "cell_type": "code",
   "execution_count": 395,
   "metadata": {},
   "outputs": [],
   "source": [
    "# # click on continue button\n",
    "click_modal_continue_button = driver.find_element(\n",
    "    By.XPATH, \"//button[normalize-space()='Continuar']\")\n",
    "click_modal_continue_button.click()\n"
   ]
  },
  {
   "cell_type": "code",
   "execution_count": 396,
   "metadata": {},
   "outputs": [],
   "source": [
    "time.sleep(2)  # Sleep for 3 seconds\n"
   ]
  },
  {
   "cell_type": "code",
   "execution_count": 397,
   "metadata": {},
   "outputs": [],
   "source": [
    "# # click on whisky\n",
    "click_close_notification = driver.find_element(\n",
    "    By.XPATH, \"//a[normalize-space()='Ahora no']\")\n",
    "click_close_notification.click()\n"
   ]
  },
  {
   "cell_type": "code",
   "execution_count": 398,
   "metadata": {},
   "outputs": [],
   "source": [
    "time.sleep(2)  # Sleep for 3 seconds\n"
   ]
  },
  {
   "cell_type": "code",
   "execution_count": 399,
   "metadata": {},
   "outputs": [],
   "source": [
    "# # click on licors\n",
    "click_licors = driver.find_element(By.XPATH, \"//a[@href='/licores/whisky']//div[@class='vtex-store-link-0-x-childrenContainer vtex-store-link-0-x-childrenContainer--home-main-category-card']//div[@class='vtex-rich-text-0-x-container vtex-rich-text-0-x-container--home-main-category-text flex tl items-start justify-start t-body c-on-base']//div[@class='vtex-rich-text-0-x-wrapper vtex-rich-text-0-x-wrapper--home-main-category-text']\")\n",
    "click_licors.click()\n"
   ]
  },
  {
   "cell_type": "code",
   "execution_count": 400,
   "metadata": {},
   "outputs": [],
   "source": [
    "time.sleep(5)  # Sleep for 3 seconds\n"
   ]
  },
  {
   "cell_type": "code",
   "execution_count": 401,
   "metadata": {},
   "outputs": [],
   "source": [
    "# driver.execute_script(\"arguments[0].click();\", WebDriverWait(driver, 20).until(EC.element_to_be_clickable(\n",
    "#     (By.XPATH, \"//div[contains(@class,'vtex-button__label flex items-center justify-center h-100 ph5')]\"))))\n",
    "# time.sleep(2)  # Sleep for 3 seconds\n",
    "# driver.execute_script(\"window.scrollTo(0, document.body.scrollHeight);\")    "
   ]
  },
  {
   "cell_type": "code",
   "execution_count": 402,
   "metadata": {},
   "outputs": [],
   "source": [
    "# element = driver.find_element(By.XPATH, \"//div[contains(@class,'vtex-button__label flex items-center justify-center h-100 ph5')]\")\n",
    "# driver.execute_script(\"arguments[0].scrollTo(0, arguments[0].scrollHeight);\", element)"
   ]
  },
  {
   "cell_type": "code",
   "execution_count": 403,
   "metadata": {},
   "outputs": [],
   "source": [
    "driver.execute_script(\"arguments[0].click();\", WebDriverWait(driver, 20).until(EC.element_to_be_clickable(\n",
    "    (By.XPATH, \"//div[contains(@class,'vtex-button__label flex items-center justify-center h-100 ph5')]\"))))\n",
    "time.sleep(2)  # Sleep for 3 seconds\n",
    "driver.execute_script(\"window.scrollTo(0, document.body.scrollHeight);\")"
   ]
  },
  {
   "cell_type": "code",
   "execution_count": 404,
   "metadata": {},
   "outputs": [],
   "source": [
    "driver.execute_script(\"arguments[0].click();\", WebDriverWait(driver, 20).until(EC.element_to_be_clickable(\n",
    "    (By.XPATH, \"//div[contains(@class,'vtex-button__label flex items-center justify-center h-100 ph5')]\"))))\n",
    "time.sleep(2)  # Sleep for 3 seconds\n",
    "driver.execute_script(\"window.scrollTo(0, document.body.scrollHeight);\")    "
   ]
  },
  {
   "cell_type": "code",
   "execution_count": 405,
   "metadata": {},
   "outputs": [],
   "source": [
    "driver.execute_script(\"arguments[0].click();\", WebDriverWait(driver, 20).until(EC.element_to_be_clickable(\n",
    "    (By.XPATH, \"//div[contains(@class,'vtex-button__label flex items-center justify-center h-100 ph5')]\"))))\n",
    "time.sleep(2)  # Sleep for 3 seconds\n",
    "driver.execute_script(\"window.scrollTo(0, document.body.scrollHeight);\")"
   ]
  },
  {
   "cell_type": "code",
   "execution_count": 406,
   "metadata": {},
   "outputs": [],
   "source": [
    "driver.execute_script(\"arguments[0].click();\", WebDriverWait(driver, 20).until(EC.element_to_be_clickable(\n",
    "    (By.XPATH, \"//div[contains(@class,'vtex-button__label flex items-center justify-center h-100 ph5')]\"))))\n",
    "time.sleep(2)  # Sleep for 3 seconds\n",
    "driver.execute_script(\"window.scrollTo(0, document.body.scrollHeight);\")"
   ]
  },
  {
   "cell_type": "code",
   "execution_count": 407,
   "metadata": {},
   "outputs": [],
   "source": [
    "driver.execute_script(\"arguments[0].click();\", WebDriverWait(driver, 20).until(EC.element_to_be_clickable(\n",
    "    (By.XPATH, \"//div[contains(@class,'vtex-button__label flex items-center justify-center h-100 ph5')]\"))))\n",
    "time.sleep(2)  # Sleep for 3 seconds\n",
    "driver.execute_script(\"window.scrollTo(0, document.body.scrollHeight);\")"
   ]
  },
  {
   "cell_type": "code",
   "execution_count": 408,
   "metadata": {},
   "outputs": [],
   "source": [
    "driver.execute_script(\"arguments[0].click();\", WebDriverWait(driver, 20).until(EC.element_to_be_clickable(\n",
    "    (By.XPATH, \"//div[contains(@class,'vtex-button__label flex items-center justify-center h-100 ph5')]\"))))\n",
    "time.sleep(2)  # Sleep for 3 seconds\n",
    "driver.execute_script(\"window.scrollTo(0, document.body.scrollHeight);\")"
   ]
  },
  {
   "cell_type": "code",
   "execution_count": 409,
   "metadata": {},
   "outputs": [],
   "source": [
    "driver.execute_script(\"arguments[0].click();\", WebDriverWait(driver, 20).until(EC.element_to_be_clickable(\n",
    "    (By.XPATH, \"//div[contains(@class,'vtex-button__label flex items-center justify-center h-100 ph5')]\"))))\n",
    "time.sleep(2)  # Sleep for 3 seconds\n",
    "driver.execute_script(\"window.scrollTo(0, document.body.scrollHeight);\")"
   ]
  },
  {
   "cell_type": "code",
   "execution_count": 410,
   "metadata": {},
   "outputs": [],
   "source": [
    "driver.execute_script(\"arguments[0].click();\", WebDriverWait(driver, 20).until(EC.element_to_be_clickable(\n",
    "    (By.XPATH, \"//div[contains(@class,'vtex-button__label flex items-center justify-center h-100 ph5')]\"))))\n",
    "time.sleep(2)  # Sleep for 3 seconds\n",
    "driver.execute_script(\"window.scrollTo(0, document.body.scrollHeight);\")"
   ]
  },
  {
   "cell_type": "code",
   "execution_count": 411,
   "metadata": {},
   "outputs": [],
   "source": [
    "time.sleep(3)  # Sleep for 3 seconds"
   ]
  },
  {
   "cell_type": "code",
   "execution_count": 412,
   "metadata": {},
   "outputs": [
    {
     "name": "stdout",
     "output_type": "stream",
     "text": [
      "Whisky Buchanans Deluxe 12 Años Blended $ 81.700 375ml\n",
      "Whisky Buchanans Deluxe 12 Años Blended $ 146.200 750ml\n",
      "Whisky Buchanans Deluxe 12 Años Blended $ 189.100 1000ml\n",
      "Whisky Old Parr 12 Años Blended $ 97.000 500ml\n",
      "Whisky Old Parr 12 Años Blended $ 132.900 750ml\n",
      "Whisky Old Parr 12 Años Blended $ 168.700 1000ml\n",
      "Whisky Chivas Regal 12 Años 0- AGOTADO 700ml\n",
      "Whisky Chivas Regal 12 Años 0- AGOTADO 1000ml\n",
      "Whisky Chivas Regal 12 Años $ 11.900 50ml\n",
      "Whisky Chivas Regal 12 Años $ 11.900 50ml\n",
      "Whisky Chivas Regal 12 Años 0- AGOTADO 375ml\n",
      "Whisky Johnnie Walker Black Label Blended $ 127.700 700ml\n",
      "Whisky Johnnie Walker Black Label Blended $ 163.600 1000ml\n",
      "Whisky Johnnie Walker Black Label Blended $ 71.500 375ml\n",
      "Whisky Buchanans Master Blended $ 204.700 1000ml\n",
      "Whisky Buchanans Master Blended $ 168.700 750ml\n",
      "Whisky Johnnie Walker Red Label Blended $ 40.700 375ml\n",
      "Whisky Johnnie Walker Red Label Blended $ 61.200 700ml\n",
      "Whisky Johnnie Walker Red Label Blended $ 40.700 375ml\n",
      "Whisky Black and White Blended 0- AGOTADO 375ml\n",
      "Whisky Black and White Blended $ 15.600 200ml\n",
      "Whisky Black and White Blended $ 68.300 1000ml\n",
      "Whisky Black and White Blended 0- AGOTADO 700ml\n",
      "Whisky Chivas Regal Extra 13 Años 0- AGOTADO 700ml\n"
     ]
    }
   ],
   "source": [
    "items = driver.find_elements(\n",
    "    By.CSS_SELECTOR,  \".vtex-product-summary-2-x-clearLink.h-100.flex.flex-column\")\n",
    "output = []\n",
    "for i in items:\n",
    "    time.sleep(1)  # Sleep for 3 seconds\n",
    "    name = i.find_element(\n",
    "        By.CSS_SELECTOR, \".vtex-product-summary-2-x-productBrand.vtex-product-summary-2-x-brandName.t-body\").text\n",
    "    try:\n",
    "        price = i.find_element(\n",
    "            By.CSS_SELECTOR, \".vtex-store-components-3-x-sellingPrice.vtex-store-components-3-x-sellingPriceContainer.pv1.b.c-on-base.vtex-store-components-3-x-price_sellingPriceContainer\").text\n",
    "    except:\n",
    "        price = \"0- AGOTADO\"\n",
    "\n",
    "    try:\n",
    "        presentation= i.find_element(By.CSS_SELECTOR, \".vtex-product-summary-2-x-skuSelectorInternalBox.vtex-product-summary-2-x-skuSelectorInternalBox--grid.vtex-store-components-3-x-skuSelectorInternalBox.w-100.h-100.b--muted-4.br2.b.z-1.c-muted-5.flex.items-center.overflow-hidden.ba\").text    \n",
    "    except:\n",
    "        presentation = \" 0 ML\"\n",
    "\n",
    "    print(name, price, presentation)    \n",
    "\n",
    "    output.append({  # <- HERE\n",
    "        \"nombre\": name,\n",
    "        \"precio\": price,\n",
    "        \"presentation\": presentation\n",
    "    })\n",
    "    \n",
    "df = pd.DataFrame(output, )\n",
    "df.to_csv('whisky_data_dislicores.csv', encoding='utf-8')\n"
   ]
  },
  {
   "cell_type": "code",
   "execution_count": 413,
   "metadata": {},
   "outputs": [
    {
     "name": "stdout",
     "output_type": "stream",
     "text": [
      "https://www.dislicores.com/licores/whisky?page=9\n"
     ]
    }
   ],
   "source": [
    "print(driver.current_url)\n"
   ]
  }
 ],
 "metadata": {
  "kernelspec": {
   "display_name": "Python 3.10.4 ('venv1')",
   "language": "python",
   "name": "python3"
  },
  "language_info": {
   "codemirror_mode": {
    "name": "ipython",
    "version": 3
   },
   "file_extension": ".py",
   "mimetype": "text/x-python",
   "name": "python",
   "nbconvert_exporter": "python",
   "pygments_lexer": "ipython3",
   "version": "3.10.6"
  },
  "orig_nbformat": 4,
  "vscode": {
   "interpreter": {
    "hash": "5ac0677a7d52e3e6348e3123040eb6242db834d3e53c799cb1e27a5e712a0538"
   }
  }
 },
 "nbformat": 4,
 "nbformat_minor": 2
}
