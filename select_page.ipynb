{
 "cells": [
  {
   "cell_type": "code",
   "execution_count": 1,
   "metadata": {},
   "outputs": [
    {
     "name": "stderr",
     "output_type": "stream",
     "text": [
      "[WDM] - Downloading: 100%|██████████| 6.21M/6.21M [00:00<00:00, 17.3MB/s]\n"
     ]
    }
   ],
   "source": [
    "# selenium 4\n",
    "from selenium import webdriver  # browser exposes an executable file\n",
    "# Through Selenium test we will invoke the executable file which will then #invoke actual browser\n",
    "from selenium.webdriver.common.by import By\n",
    "from selenium.webdriver.support.select import Select\n",
    "import time\n",
    "from selenium.webdriver.support.ui import WebDriverWait\n",
    "from selenium.webdriver.support import expected_conditions as EC\n",
    "import requests\n",
    "from bs4 import BeautifulSoup\n",
    "from selenium.webdriver.chrome.service import Service as ChromeService\n",
    "from selenium.webdriver.common.keys import Keys\n",
    "from webdriver_manager.chrome import ChromeDriverManager\n",
    "driver = webdriver.Chrome(service=ChromeService(\n",
    "    ChromeDriverManager().install()))\n",
    "driver.maximize_window()\n"
   ]
  },
  {
   "cell_type": "code",
   "execution_count": 2,
   "metadata": {},
   "outputs": [],
   "source": [
    "# get method to launch the URL\n",
    "url = driver.get(\"https://www.dislicores.com/\")\n",
    "# to refresh the browser\n"
   ]
  },
  {
   "cell_type": "code",
   "execution_count": 3,
   "metadata": {},
   "outputs": [],
   "source": [
    "time.sleep(2)  # Sleep for 3 seconds\n"
   ]
  },
  {
   "cell_type": "code",
   "execution_count": 4,
   "metadata": {},
   "outputs": [],
   "source": [
    "# the driver determines that should be used or not based the XPATH variable\n",
    "# This variables should be changed with the time\n",
    "\n",
    "# Open modal window\n",
    "open_modal = driver.find_element(\n",
    "    By.XPATH, \"//div[contains(text(),'BY ICOMMKT')]\")\n",
    "open_modal.click()\n"
   ]
  },
  {
   "cell_type": "code",
   "execution_count": 5,
   "metadata": {},
   "outputs": [],
   "source": [
    "time.sleep(2)  # Sleep for 3 seconds\n"
   ]
  },
  {
   "cell_type": "code",
   "execution_count": 6,
   "metadata": {},
   "outputs": [],
   "source": [
    "# select city\n",
    "select_modal = driver.find_element(By.XPATH, \"//div[@class=' css-mqam1g']\")\n",
    "select_modal.click()\n"
   ]
  },
  {
   "cell_type": "code",
   "execution_count": 7,
   "metadata": {},
   "outputs": [],
   "source": [
    "# # select city\n",
    "select_modal_city = driver.find_element(\n",
    "    By.XPATH, \"//div[@id='react-select-2-option-9']\")\n",
    "select_modal_city.click()\n"
   ]
  },
  {
   "cell_type": "code",
   "execution_count": 8,
   "metadata": {},
   "outputs": [],
   "source": [
    "time.sleep(2)  # Sleep for 3 seconds\n"
   ]
  },
  {
   "cell_type": "code",
   "execution_count": 9,
   "metadata": {},
   "outputs": [],
   "source": [
    "# # click on list box\n",
    "click_modal_list_box = driver.find_element(\n",
    "    By.XPATH, \"//span[@class='dislicoresqa-custom-app-2-x-AgeVerification_a_checkbox_checkmark']\")\n",
    "click_modal_list_box.click()\n"
   ]
  },
  {
   "cell_type": "code",
   "execution_count": 10,
   "metadata": {},
   "outputs": [],
   "source": [
    "time.sleep(2)  # Sleep for 3 seconds\n"
   ]
  },
  {
   "cell_type": "code",
   "execution_count": 11,
   "metadata": {},
   "outputs": [],
   "source": [
    "# # click on continue button\n",
    "click_modal_continue_button = driver.find_element(\n",
    "    By.XPATH, \"//button[normalize-space()='Continuar']\")\n",
    "click_modal_continue_button.click()\n"
   ]
  },
  {
   "cell_type": "code",
   "execution_count": 12,
   "metadata": {},
   "outputs": [],
   "source": [
    "time.sleep(2)  # Sleep for 3 seconds\n"
   ]
  },
  {
   "cell_type": "code",
   "execution_count": 13,
   "metadata": {},
   "outputs": [],
   "source": [
    "# # click on whisky\n",
    "click_close_notification = driver.find_element(\n",
    "    By.XPATH, \"//a[normalize-space()='Ahora no']\")\n",
    "click_close_notification.click()\n"
   ]
  },
  {
   "cell_type": "code",
   "execution_count": 14,
   "metadata": {},
   "outputs": [],
   "source": [
    "time.sleep(2)  # Sleep for 3 seconds\n"
   ]
  },
  {
   "cell_type": "code",
   "execution_count": 15,
   "metadata": {},
   "outputs": [],
   "source": [
    "# # click on licors\n",
    "click_licors = driver.find_element(By.XPATH, \"//a[@href='/licores/whisky']//div[@class='vtex-store-link-0-x-childrenContainer vtex-store-link-0-x-childrenContainer--home-main-category-card']//div[@class='vtex-rich-text-0-x-container vtex-rich-text-0-x-container--home-main-category-text flex tl items-start justify-start t-body c-on-base']//div[@class='vtex-rich-text-0-x-wrapper vtex-rich-text-0-x-wrapper--home-main-category-text']\")\n",
    "click_licors.click()\n"
   ]
  },
  {
   "cell_type": "code",
   "execution_count": 16,
   "metadata": {},
   "outputs": [],
   "source": [
    "time.sleep(2)  # Sleep for 3 seconds\n"
   ]
  },
  {
   "cell_type": "code",
   "execution_count": 17,
   "metadata": {},
   "outputs": [],
   "source": [
    "# driver.execute_script(\"arguments[0].click();\", WebDriverWait(driver, 20).until(EC.element_to_be_clickable(\n",
    "#     (By.XPATH, \"//div[contains(@class,'vtex-button__label flex items-center justify-center h-100 ph5')]\"))))\n",
    "# time.sleep(2)  # Sleep for 3 seconds\n",
    "# driver.execute_script(\"window.scrollTo(0, document.body.scrollHeight);\")    "
   ]
  },
  {
   "cell_type": "code",
   "execution_count": 18,
   "metadata": {},
   "outputs": [
    {
     "ename": "NoSuchElementException",
     "evalue": "Message: no such element: Unable to locate element: {\"method\":\"xpath\",\"selector\":\"//div[contains(@class,'vtex-button__label flex items-center justify-center h-100 ph5')]\"}\n  (Session info: chrome=104.0.5112.81)\nStacktrace:\nBacktrace:\n\tOrdinal0 [0x005478B3+2193587]\n\tOrdinal0 [0x004E0681+1771137]\n\tOrdinal0 [0x003F41A8+803240]\n\tOrdinal0 [0x004224A0+992416]\n\tOrdinal0 [0x0042273B+993083]\n\tOrdinal0 [0x0044F7C2+1177538]\n\tOrdinal0 [0x0043D7F4+1103860]\n\tOrdinal0 [0x0044DAE2+1170146]\n\tOrdinal0 [0x0043D5C6+1103302]\n\tOrdinal0 [0x004177E0+948192]\n\tOrdinal0 [0x004186E6+952038]\n\tGetHandleVerifier [0x007F0CB2+2738370]\n\tGetHandleVerifier [0x007E21B8+2678216]\n\tGetHandleVerifier [0x005D17AA+512954]\n\tGetHandleVerifier [0x005D0856+509030]\n\tOrdinal0 [0x004E743B+1799227]\n\tOrdinal0 [0x004EBB68+1817448]\n\tOrdinal0 [0x004EBC55+1817685]\n\tOrdinal0 [0x004F5230+1856048]\n\tBaseThreadInitThunk [0x77396739+25]\n\tRtlGetFullPathName_UEx [0x77C190AF+1215]\n\tRtlGetFullPathName_UEx [0x77C1907D+1165]\n",
     "output_type": "error",
     "traceback": [
      "\u001b[1;31m---------------------------------------------------------------------------\u001b[0m",
      "\u001b[1;31mNoSuchElementException\u001b[0m                    Traceback (most recent call last)",
      "\u001b[1;32mc:\\workflow\\data_science\\web_scraping_ecommerce\\select_page.ipynb Cell 18\u001b[0m in \u001b[0;36m<cell line: 1>\u001b[1;34m()\u001b[0m\n\u001b[1;32m----> <a href='vscode-notebook-cell:/c%3A/workflow/data_science/web_scraping_ecommerce/select_page.ipynb#X23sZmlsZQ%3D%3D?line=0'>1</a>\u001b[0m element \u001b[39m=\u001b[39m driver\u001b[39m.\u001b[39;49mfind_element(By\u001b[39m.\u001b[39;49mXPATH, \u001b[39m\"\u001b[39;49m\u001b[39m//div[contains(@class,\u001b[39;49m\u001b[39m'\u001b[39;49m\u001b[39mvtex-button__label flex items-center justify-center h-100 ph5\u001b[39;49m\u001b[39m'\u001b[39;49m\u001b[39m)]\u001b[39;49m\u001b[39m\"\u001b[39;49m)\n\u001b[0;32m      <a href='vscode-notebook-cell:/c%3A/workflow/data_science/web_scraping_ecommerce/select_page.ipynb#X23sZmlsZQ%3D%3D?line=1'>2</a>\u001b[0m driver\u001b[39m.\u001b[39mexecute_script(\u001b[39m\"\u001b[39m\u001b[39marguments[0].scrollTo(0, arguments[0].scrollHeight);\u001b[39m\u001b[39m\"\u001b[39m, element)\n",
      "File \u001b[1;32mc:\\envPython\\venv1\\lib\\site-packages\\selenium\\webdriver\\remote\\webdriver.py:857\u001b[0m, in \u001b[0;36mWebDriver.find_element\u001b[1;34m(self, by, value)\u001b[0m\n\u001b[0;32m    854\u001b[0m     by \u001b[39m=\u001b[39m By\u001b[39m.\u001b[39mCSS_SELECTOR\n\u001b[0;32m    855\u001b[0m     value \u001b[39m=\u001b[39m \u001b[39m'\u001b[39m\u001b[39m[name=\u001b[39m\u001b[39m\"\u001b[39m\u001b[39m%s\u001b[39;00m\u001b[39m\"\u001b[39m\u001b[39m]\u001b[39m\u001b[39m'\u001b[39m \u001b[39m%\u001b[39m value\n\u001b[1;32m--> 857\u001b[0m \u001b[39mreturn\u001b[39;00m \u001b[39mself\u001b[39;49m\u001b[39m.\u001b[39;49mexecute(Command\u001b[39m.\u001b[39;49mFIND_ELEMENT, {\n\u001b[0;32m    858\u001b[0m     \u001b[39m'\u001b[39;49m\u001b[39musing\u001b[39;49m\u001b[39m'\u001b[39;49m: by,\n\u001b[0;32m    859\u001b[0m     \u001b[39m'\u001b[39;49m\u001b[39mvalue\u001b[39;49m\u001b[39m'\u001b[39;49m: value})[\u001b[39m'\u001b[39m\u001b[39mvalue\u001b[39m\u001b[39m'\u001b[39m]\n",
      "File \u001b[1;32mc:\\envPython\\venv1\\lib\\site-packages\\selenium\\webdriver\\remote\\webdriver.py:435\u001b[0m, in \u001b[0;36mWebDriver.execute\u001b[1;34m(self, driver_command, params)\u001b[0m\n\u001b[0;32m    433\u001b[0m response \u001b[39m=\u001b[39m \u001b[39mself\u001b[39m\u001b[39m.\u001b[39mcommand_executor\u001b[39m.\u001b[39mexecute(driver_command, params)\n\u001b[0;32m    434\u001b[0m \u001b[39mif\u001b[39;00m response:\n\u001b[1;32m--> 435\u001b[0m     \u001b[39mself\u001b[39;49m\u001b[39m.\u001b[39;49merror_handler\u001b[39m.\u001b[39;49mcheck_response(response)\n\u001b[0;32m    436\u001b[0m     response[\u001b[39m'\u001b[39m\u001b[39mvalue\u001b[39m\u001b[39m'\u001b[39m] \u001b[39m=\u001b[39m \u001b[39mself\u001b[39m\u001b[39m.\u001b[39m_unwrap_value(\n\u001b[0;32m    437\u001b[0m         response\u001b[39m.\u001b[39mget(\u001b[39m'\u001b[39m\u001b[39mvalue\u001b[39m\u001b[39m'\u001b[39m, \u001b[39mNone\u001b[39;00m))\n\u001b[0;32m    438\u001b[0m     \u001b[39mreturn\u001b[39;00m response\n",
      "File \u001b[1;32mc:\\envPython\\venv1\\lib\\site-packages\\selenium\\webdriver\\remote\\errorhandler.py:247\u001b[0m, in \u001b[0;36mErrorHandler.check_response\u001b[1;34m(self, response)\u001b[0m\n\u001b[0;32m    245\u001b[0m         alert_text \u001b[39m=\u001b[39m value[\u001b[39m'\u001b[39m\u001b[39malert\u001b[39m\u001b[39m'\u001b[39m]\u001b[39m.\u001b[39mget(\u001b[39m'\u001b[39m\u001b[39mtext\u001b[39m\u001b[39m'\u001b[39m)\n\u001b[0;32m    246\u001b[0m     \u001b[39mraise\u001b[39;00m exception_class(message, screen, stacktrace, alert_text)  \u001b[39m# type: ignore[call-arg]  # mypy is not smart enough here\u001b[39;00m\n\u001b[1;32m--> 247\u001b[0m \u001b[39mraise\u001b[39;00m exception_class(message, screen, stacktrace)\n",
      "\u001b[1;31mNoSuchElementException\u001b[0m: Message: no such element: Unable to locate element: {\"method\":\"xpath\",\"selector\":\"//div[contains(@class,'vtex-button__label flex items-center justify-center h-100 ph5')]\"}\n  (Session info: chrome=104.0.5112.81)\nStacktrace:\nBacktrace:\n\tOrdinal0 [0x005478B3+2193587]\n\tOrdinal0 [0x004E0681+1771137]\n\tOrdinal0 [0x003F41A8+803240]\n\tOrdinal0 [0x004224A0+992416]\n\tOrdinal0 [0x0042273B+993083]\n\tOrdinal0 [0x0044F7C2+1177538]\n\tOrdinal0 [0x0043D7F4+1103860]\n\tOrdinal0 [0x0044DAE2+1170146]\n\tOrdinal0 [0x0043D5C6+1103302]\n\tOrdinal0 [0x004177E0+948192]\n\tOrdinal0 [0x004186E6+952038]\n\tGetHandleVerifier [0x007F0CB2+2738370]\n\tGetHandleVerifier [0x007E21B8+2678216]\n\tGetHandleVerifier [0x005D17AA+512954]\n\tGetHandleVerifier [0x005D0856+509030]\n\tOrdinal0 [0x004E743B+1799227]\n\tOrdinal0 [0x004EBB68+1817448]\n\tOrdinal0 [0x004EBC55+1817685]\n\tOrdinal0 [0x004F5230+1856048]\n\tBaseThreadInitThunk [0x77396739+25]\n\tRtlGetFullPathName_UEx [0x77C190AF+1215]\n\tRtlGetFullPathName_UEx [0x77C1907D+1165]\n"
     ]
    }
   ],
   "source": [
    "element = driver.find_element(By.XPATH, \"//div[contains(@class,'vtex-button__label flex items-center justify-center h-100 ph5')]\")\n",
    "driver.execute_script(\"arguments[0].scrollTo(0, arguments[0].scrollHeight);\", element)"
   ]
  },
  {
   "cell_type": "code",
   "execution_count": null,
   "metadata": {},
   "outputs": [],
   "source": [
    "# driver.execute_script(\"arguments[0].click();\", WebDriverWait(driver, 20).until(EC.element_to_be_clickable(\n",
    "#     (By.XPATH, \"//div[contains(@class,'vtex-button__label flex items-center justify-center h-100 ph5')]\"))))\n",
    "# time.sleep(2)  # Sleep for 3 seconds\n",
    "# driver.execute_script(\"window.scrollTo(0, document.body.scrollHeight);\")"
   ]
  },
  {
   "cell_type": "code",
   "execution_count": null,
   "metadata": {},
   "outputs": [],
   "source": [
    "driver.execute_script(\"arguments[0].click();\", WebDriverWait(driver, 20).until(EC.element_to_be_clickable(\n",
    "    (By.XPATH, \"//div[contains(@class,'vtex-button__label flex items-center justify-center h-100 ph5')]\"))))\n",
    "driver.execute_script(\"window.scrollTo(0, document.body.scrollHeight);\")    "
   ]
  },
  {
   "cell_type": "code",
   "execution_count": null,
   "metadata": {},
   "outputs": [],
   "source": [
    "# driver.execute_script(\"arguments[0].click();\", WebDriverWait(driver, 20).until(EC.element_to_be_clickable(\n",
    "#     (By.XPATH, \"//div[contains(@class,'vtex-button__label flex items-center justify-center h-100 ph5')]\"))))\n",
    "# time.sleep(2)  # Sleep for 3 seconds\n",
    "# driver.execute_script(\"window.scrollTo(0, document.body.scrollHeight);\")"
   ]
  },
  {
   "cell_type": "code",
   "execution_count": null,
   "metadata": {},
   "outputs": [],
   "source": [
    "# driver.execute_script(\"arguments[0].click();\", WebDriverWait(driver, 20).until(EC.element_to_be_clickable(\n",
    "#     (By.XPATH, \"//div[contains(@class,'vtex-button__label flex items-center justify-center h-100 ph5')]\"))))\n",
    "# time.sleep(2)  # Sleep for 3 seconds\n",
    "# driver.execute_script(\"window.scrollTo(0, document.body.scrollHeight);\")"
   ]
  },
  {
   "cell_type": "code",
   "execution_count": null,
   "metadata": {},
   "outputs": [],
   "source": [
    "# driver.execute_script(\"arguments[0].click();\", WebDriverWait(driver, 20).until(EC.element_to_be_clickable(\n",
    "#     (By.XPATH, \"//div[contains(@class,'vtex-button__label flex items-center justify-center h-100 ph5')]\"))))\n",
    "# time.sleep(2)  # Sleep for 3 seconds\n",
    "# driver.execute_script(\"window.scrollTo(0, document.body.scrollHeight);\")"
   ]
  },
  {
   "cell_type": "code",
   "execution_count": null,
   "metadata": {},
   "outputs": [],
   "source": [
    "# driver.execute_script(\"arguments[0].click();\", WebDriverWait(driver, 20).until(EC.element_to_be_clickable(\n",
    "#     (By.XPATH, \"//div[contains(@class,'vtex-button__label flex items-center justify-center h-100 ph5')]\"))))\n",
    "# time.sleep(2)  # Sleep for 3 seconds\n",
    "# driver.execute_script(\"window.scrollTo(0, document.body.scrollHeight);\")"
   ]
  },
  {
   "cell_type": "code",
   "execution_count": null,
   "metadata": {},
   "outputs": [],
   "source": [
    "# driver.execute_script(\"arguments[0].click();\", WebDriverWait(driver, 20).until(EC.element_to_be_clickable(\n",
    "#     (By.XPATH, \"//div[contains(@class,'vtex-button__label flex items-center justify-center h-100 ph5')]\"))))\n",
    "# time.sleep(2)  # Sleep for 3 seconds\n",
    "# driver.execute_script(\"window.scrollTo(0, document.body.scrollHeight);\")"
   ]
  },
  {
   "cell_type": "code",
   "execution_count": null,
   "metadata": {},
   "outputs": [],
   "source": [
    "time.sleep(5)  # Sleep for 3 seconds"
   ]
  },
  {
   "cell_type": "code",
   "execution_count": null,
   "metadata": {},
   "outputs": [
    {
     "name": "stdout",
     "output_type": "stream",
     "text": [
      "Whisky Buchanans Deluxe 12 Años Blended\n",
      "Whisky Buchanans Deluxe 12 Años Blended\n",
      "Whisky Buchanans Deluxe 12 Años Blended\n",
      "Whisky Old Parr 12 Años Blended\n",
      "Whisky Old Parr 12 Años Blended\n",
      "Whisky Old Parr 12 Años Blended\n",
      "Whisky Chivas Regal 12 Años\n",
      "Whisky Chivas Regal 12 Años\n",
      "Whisky Chivas Regal 12 Años\n"
     ]
    }
   ],
   "source": [
    "items = driver.find_elements(By.CSS_SELECTOR,  \".vtex-product-summary-2-x-clearLink.h-100.flex.flex-column\")\n",
    "output = []\n",
    "for i in items:\n",
    "    # time.sleep(3)  # Sleep for 3 seconds\n",
    "    name = i.find_element(\n",
    "        By.CSS_SELECTOR, \".vtex-product-summary-2-x-productBrand.vtex-product-summary-2-x-brandName.t-body\").text\n",
    "    # price = i.find_element(\n",
    "    #     By.CSS_SELECTOR, \".vtex-store-components-3-x-sellingPrice.vtex-store-components-3-x-sellingPriceContainer.pv1.b.c-on-base.vtex-store-components-3-x-price_sellingPriceContainer\").text\n",
    "    print(name)\n"
   ]
  },
  {
   "cell_type": "code",
   "execution_count": null,
   "metadata": {},
   "outputs": [
    {
     "name": "stdout",
     "output_type": "stream",
     "text": [
      "https://www.dislicores.com/licores/whisky\n"
     ]
    }
   ],
   "source": [
    "print(driver.current_url)\n"
   ]
  }
 ],
 "metadata": {
  "kernelspec": {
   "display_name": "Python 3.10.4 ('venv1')",
   "language": "python",
   "name": "python3"
  },
  "language_info": {
   "codemirror_mode": {
    "name": "ipython",
    "version": 3
   },
   "file_extension": ".py",
   "mimetype": "text/x-python",
   "name": "python",
   "nbconvert_exporter": "python",
   "pygments_lexer": "ipython3",
   "version": "3.10.6"
  },
  "orig_nbformat": 4,
  "vscode": {
   "interpreter": {
    "hash": "5ac0677a7d52e3e6348e3123040eb6242db834d3e53c799cb1e27a5e712a0538"
   }
  }
 },
 "nbformat": 4,
 "nbformat_minor": 2
}
