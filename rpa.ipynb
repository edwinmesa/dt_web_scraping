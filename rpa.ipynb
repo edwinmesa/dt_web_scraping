{
 "cells": [
  {
   "cell_type": "code",
   "execution_count": 1,
   "metadata": {},
   "outputs": [],
   "source": [
    "import rpa as r\n",
    "import pandas as pd\n"
   ]
  },
  {
   "cell_type": "code",
   "execution_count": 2,
   "metadata": {},
   "outputs": [
    {
     "data": {
      "text/plain": [
       "True"
      ]
     },
     "execution_count": 2,
     "metadata": {},
     "output_type": "execute_result"
    }
   ],
   "source": [
    "r.init(visual_automation=True, chrome_browser=True)\n",
    "r.url('www.dislicores.com')\n",
    "# r.wait(2.5)\n",
    "# r.click(\"//div[@class='dislicoresqa-custom-app-2-x-m_age_modal_layout_inner']\")\n",
    "# r.hover(\"//div[@data-hveid='CAkQAA']//h3[@class='LC20lb MBeuO DKV0Md'][normalize-space()='Dislicores: Vinos, Whisky, Tequilas, Ginebras']\")\n",
    "# r.click(\"//body/div[@id='wpnDialogcontainer']/div[1]\")\n",
    "r.wait(5.5)\n",
    "r.click(900, 300)\n",
    "# r.keyboard('[cmd]t')\n",
    "# r.mouse('down')\n",
    "# r.hover(r.mouse_x() + 300, r.mouse_y())\n",
    "r.click(\"//div[contains(@class,'css-mqam1g')]\")\n",
    "r.click(\"//div[@id='react-select-2-option-9']\")\n",
    "r.click(\n",
    "    \"//span[@class='dislicoresqa-custom-app-2-x-AgeVerification_a_checkbox_checkmark']\")\n",
    "r.click(\"//button[normalize-space()='Continuar']\")\n",
    "r.close()\n"
   ]
  }
 ],
 "metadata": {
  "kernelspec": {
   "display_name": "Python 3.10.6 ('venv1')",
   "language": "python",
   "name": "python3"
  },
  "language_info": {
   "codemirror_mode": {
    "name": "ipython",
    "version": 3
   },
   "file_extension": ".py",
   "mimetype": "text/x-python",
   "name": "python",
   "nbconvert_exporter": "python",
   "pygments_lexer": "ipython3",
   "version": "3.10.6"
  },
  "orig_nbformat": 4,
  "vscode": {
   "interpreter": {
    "hash": "5ac0677a7d52e3e6348e3123040eb6242db834d3e53c799cb1e27a5e712a0538"
   }
  }
 },
 "nbformat": 4,
 "nbformat_minor": 2
}
